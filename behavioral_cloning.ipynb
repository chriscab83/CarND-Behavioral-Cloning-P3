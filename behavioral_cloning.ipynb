{
 "cells": [
  {
   "cell_type": "markdown",
   "metadata": {},
   "source": [
    "### Load Data"
   ]
  },
  {
   "cell_type": "code",
   "execution_count": 41,
   "metadata": {},
   "outputs": [
    {
     "name": "stdout",
     "output_type": "stream",
     "text": [
      "(19662, 160, 320, 3)\n",
      "(19662,)\n"
     ]
    }
   ],
   "source": [
    "import csv\n",
    "import cv2\n",
    "import random\n",
    "import numpy as np\n",
    "import matplotlib.pyplot as plt\n",
    "%matplotlib inline\n",
    "\n",
    "images = []\n",
    "measurements = []\n",
    "with open('./data/driving_log.csv', 'r') as csvfile:\n",
    "    reader = csv.reader(csvfile)\n",
    "    for line in reader:\n",
    "        correction = 0.2\n",
    "        \n",
    "        c_steer = float(line[3])\n",
    "        l_steer = c_steer + correction\n",
    "        r_steer = c_steer - correction\n",
    "        \n",
    "        directory = './data/IMG/'\n",
    "        c_file = line[0].split('/')[-1]\n",
    "        c_img = cv2.cvtColor(cv2.imread(directory + c_file), cv2.COLOR_BGR2RGB)\n",
    "        \n",
    "        l_file = line[1].split('/')[-1]\n",
    "        l_img = cv2.cvtColor(cv2.imread(directory + l_file), cv2.COLOR_BGR2RGB)\n",
    "        \n",
    "        r_file = line[2].split('/')[-1]\n",
    "        r_img = cv2.cvtColor(cv2.imread(directory + r_file), cv2.COLOR_BGR2RGB)\n",
    "        \n",
    "        images.extend((c_img, l_img, r_img, cv2.flip(c_img, 1), cv2.flip(l_img, 1), cv2.flip(r_img, 1)))\n",
    "        measurements.extend((c_steer, l_steer, r_steer, c_steer*-1.0, l_steer*-1.0, r_steer*-1.0))\n",
    "    \n",
    "X_train = np.array(images)\n",
    "y_train = np.array(measurements)\n",
    "\n",
    "print(X_train.shape)\n",
    "print(y_train.shape)"
   ]
  },
  {
   "cell_type": "markdown",
   "metadata": {},
   "source": [
    "### Build and Train Model"
   ]
  },
  {
   "cell_type": "code",
   "execution_count": 46,
   "metadata": {},
   "outputs": [
    {
     "name": "stdout",
     "output_type": "stream",
     "text": [
      "Train on 15729 samples, validate on 3933 samples\n",
      "Epoch 1/5\n",
      "15729/15729 [==============================] - 42s - loss: 0.0366 - val_loss: 0.0276\n",
      "Epoch 2/5\n",
      "15729/15729 [==============================] - 41s - loss: 0.0203 - val_loss: 0.0245\n",
      "Epoch 3/5\n",
      "15729/15729 [==============================] - 41s - loss: 0.0174 - val_loss: 0.0242\n",
      "Epoch 4/5\n",
      "15729/15729 [==============================] - 41s - loss: 0.0161 - val_loss: 0.0232\n",
      "Epoch 5/5\n",
      "15729/15729 [==============================] - 41s - loss: 0.0153 - val_loss: 0.0236\n"
     ]
    }
   ],
   "source": [
    "from keras.models import Sequential\n",
    "from keras.layers import Flatten, Dense, Lambda, Dropout, Cropping2D\n",
    "from keras.layers.convolutional import Conv2D\n",
    "from keras.layers.pooling import MaxPooling2D\n",
    "\n",
    "model = Sequential()\n",
    "model.add(Lambda(lambda x: x / 255.0 - 0.5, input_shape=(160,320,3)))\n",
    "model.add(Cropping2D(cropping=((70,25),(0,0))))\n",
    "\n",
    "model.add(Conv2D(6, (5, 5), activation=\"relu\"))\n",
    "model.add(MaxPooling2D())\n",
    "model.add(Conv2D(6, (5, 5), activation=\"relu\"))\n",
    "model.add(MaxPooling2D())\n",
    "model.add(Flatten())\n",
    "model.add(Dropout(0.5))\n",
    "model.add(Dense(120))\n",
    "model.add(Dropout(0.5))\n",
    "model.add(Dense(84))\n",
    "model.add(Dropout(0.5))\n",
    "model.add(Dense(1))\n",
    "\n",
    "model.compile(loss='mse', optimizer='adam')\n",
    "model.fit(X_train, y_train, validation_split=0.2, shuffle=True, epochs=5)\n",
    "\n",
    "model.save('model.h5')"
   ]
  },
  {
   "cell_type": "code",
   "execution_count": 47,
   "metadata": {},
   "outputs": [
    {
     "name": "stderr",
     "output_type": "stream",
     "text": [
      "/home/carnd/anaconda3/envs/carnd-term1/lib/python3.5/site-packages/ipykernel_launcher.py:10: UserWarning: Update your `Conv2D` call to the Keras 2 API: `Conv2D(24, (5, 5), activation=\"relu\", strides=(2, 2))`\n",
      "  # Remove the CWD from sys.path while we load stuff.\n",
      "/home/carnd/anaconda3/envs/carnd-term1/lib/python3.5/site-packages/ipykernel_launcher.py:11: UserWarning: Update your `Conv2D` call to the Keras 2 API: `Conv2D(36, (5, 5), activation=\"relu\", strides=(2, 2))`\n",
      "  # This is added back by InteractiveShellApp.init_path()\n",
      "/home/carnd/anaconda3/envs/carnd-term1/lib/python3.5/site-packages/ipykernel_launcher.py:12: UserWarning: Update your `Conv2D` call to the Keras 2 API: `Conv2D(48, (5, 5), activation=\"relu\", strides=(2, 2))`\n",
      "  if sys.path[0] == '':\n"
     ]
    },
    {
     "name": "stdout",
     "output_type": "stream",
     "text": [
      "Train on 15729 samples, validate on 3933 samples\n",
      "Epoch 1/5\n",
      "15729/15729 [==============================] - 53s - loss: 0.0242 - val_loss: 0.0273\n",
      "Epoch 2/5\n",
      "15729/15729 [==============================] - 52s - loss: 0.0171 - val_loss: 0.0253\n",
      "Epoch 3/5\n",
      "15729/15729 [==============================] - 52s - loss: 0.0148 - val_loss: 0.0291\n",
      "Epoch 4/5\n",
      "15729/15729 [==============================] - 52s - loss: 0.0135 - val_loss: 0.0270\n",
      "Epoch 5/5\n",
      "15729/15729 [==============================] - 52s - loss: 0.0123 - val_loss: 0.0271\n"
     ]
    }
   ],
   "source": [
    "from keras.models import Sequential\n",
    "from keras.layers import Flatten, Dense, Lambda, Dropout, Cropping2D\n",
    "from keras.layers.convolutional import Conv2D\n",
    "from keras.layers.pooling import MaxPooling2D\n",
    "\n",
    "model = Sequential()\n",
    "model.add(Lambda(lambda x: x / 255.0 - 0.5, input_shape=(160,320,3)))\n",
    "model.add(Cropping2D(cropping=((50,20),(0,0))))\n",
    "\n",
    "model.add(Conv2D(24, (5, 5), strides=(2, 2), activation=\"relu\"))\n",
    "model.add(Conv2D(36, (5, 5), strides=(2, 2), activation=\"relu\"))\n",
    "model.add(Conv2D(48, (5, 5), strides=(2, 2), activation=\"relu\"))\n",
    "model.add(Conv2D(64, (3, 3), activation=\"relu\"))\n",
    "model.add(Conv2D(64, (3, 3), activation=\"relu\"))\n",
    "model.add(Flatten())\n",
    "model.add(Dropout(0.5))\n",
    "model.add(Dense(100))\n",
    "model.add(Dropout(0.5))\n",
    "model.add(Dense(50))\n",
    "model.add(Dropout(0.5))\n",
    "model.add(Dense(10))\n",
    "model.add(Dropout(0.5))\n",
    "model.add(Dense(1))\n",
    "\n",
    "model.compile(loss='mse', optimizer='adam')\n",
    "model.fit(X_train, y_train, validation_split=0.2, shuffle=True, epochs=5)\n",
    "\n",
    "model.save('model1.h5')"
   ]
  },
  {
   "cell_type": "code",
   "execution_count": null,
   "metadata": {
    "collapsed": true
   },
   "outputs": [],
   "source": []
  }
 ],
 "metadata": {
  "kernelspec": {
   "display_name": "Python 3",
   "language": "python",
   "name": "python3"
  },
  "language_info": {
   "codemirror_mode": {
    "name": "ipython",
    "version": 3
   },
   "file_extension": ".py",
   "mimetype": "text/x-python",
   "name": "python",
   "nbconvert_exporter": "python",
   "pygments_lexer": "ipython3",
   "version": "3.5.2"
  },
  "widgets": {
   "state": {},
   "version": "1.1.2"
  }
 },
 "nbformat": 4,
 "nbformat_minor": 2
}
